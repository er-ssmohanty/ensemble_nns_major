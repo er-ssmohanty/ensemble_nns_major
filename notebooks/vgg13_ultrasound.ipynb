{
 "cells": [
  {
   "cell_type": "code",
   "execution_count": 1,
   "metadata": {
    "execution": {
     "iopub.execute_input": "2023-03-17T09:42:25.925519Z",
     "iopub.status.busy": "2023-03-17T09:42:25.925005Z",
     "iopub.status.idle": "2023-03-17T09:42:28.199303Z",
     "shell.execute_reply": "2023-03-17T09:42:28.198539Z",
     "shell.execute_reply.started": "2023-03-17T09:42:25.925495Z"
    },
    "executionInfo": {
     "elapsed": 4793,
     "status": "ok",
     "timestamp": 1665591516447,
     "user": {
      "displayName": "Dataset Cancer",
      "userId": "11315013122659612988"
     },
     "user_tz": -330
    },
    "id": "X51w7IrtwhEA"
   },
   "outputs": [],
   "source": [
    "from tensorflow import keras\n",
    "import numpy as np\n",
    "from keras.utils import np_utils\n",
    "from keras.layers import Input, Conv2D, MaxPooling2D\n",
    "from keras.layers import Dense, Flatten\n",
    "from keras.models import Model\n",
    "from keras.optimizers import Adam\n",
    "import matplotlib.pyplot as plt\n",
    "import os\n",
    "from tensorflow.keras.preprocessing import image_dataset_from_directory"
   ]
  },
  {
   "cell_type": "code",
   "execution_count": 2,
   "metadata": {
    "colab": {
     "base_uri": "https://localhost:8080/"
    },
    "execution": {
     "iopub.execute_input": "2023-03-17T09:42:28.201402Z",
     "iopub.status.busy": "2023-03-17T09:42:28.201019Z",
     "iopub.status.idle": "2023-03-17T09:42:29.309079Z",
     "shell.execute_reply": "2023-03-17T09:42:29.308456Z",
     "shell.execute_reply.started": "2023-03-17T09:42:28.201381Z"
    },
    "executionInfo": {
     "elapsed": 1058,
     "status": "ok",
     "timestamp": 1665127434961,
     "user": {
      "displayName": "Dataset Cancer",
      "userId": "11315013122659612988"
     },
     "user_tz": -330
    },
    "id": "9Z-kER6XS06k",
    "outputId": "bc1f5d42-486a-4f3f-9c94-c4ad4e95dfc2"
   },
   "outputs": [],
   "source": [
    "_input = Input((256,256,1)) \n",
    "conv1  = Conv2D(filters=64, kernel_size=(3,3), padding=\"same\", activation=\"relu\")(_input)\n",
    "conv2  = Conv2D(filters=64, kernel_size=(3,3), padding=\"same\", activation=\"relu\")(conv1)\n",
    "pool1  = MaxPooling2D((2, 2))(conv2)\n",
    "\n",
    "conv3  = Conv2D(filters=128, kernel_size=(3,3), padding=\"same\", activation=\"relu\")(pool1)\n",
    "conv4  = Conv2D(filters=128, kernel_size=(3,3), padding=\"same\", activation=\"relu\")(conv3)\n",
    "pool2  = MaxPooling2D((2, 2))(conv4)\n",
    "\n",
    "conv5  = Conv2D(filters=256, kernel_size=(3,3), padding=\"same\", activation=\"relu\")(pool2)\n",
    "conv6  = Conv2D(filters=256, kernel_size=(3,3), padding=\"same\", activation=\"relu\")(conv5)\n",
    "conv7  = Conv2D(filters=256, kernel_size=(3,3), padding=\"same\", activation=\"relu\")(conv6)\n",
    "pool3  = MaxPooling2D((2, 2))(conv7)\n",
    "\n",
    "conv8  = Conv2D(filters=512, kernel_size=(3,3), padding=\"same\", activation=\"relu\")(pool3)\n",
    "conv9  = Conv2D(filters=512, kernel_size=(3,3), padding=\"same\", activation=\"relu\")(conv8)\n",
    "conv10 = Conv2D(filters=512, kernel_size=(3,3), padding=\"same\", activation=\"relu\")(conv9)\n",
    "pool4  = MaxPooling2D((2, 2))(conv10)\n",
    "\n",
    "conv11 = Conv2D(filters=512, kernel_size=(3,3), padding=\"same\", activation=\"relu\")(pool4)\n",
    "conv12 = Conv2D(filters=512, kernel_size=(3,3), padding=\"same\", activation=\"relu\")(conv11)\n",
    "conv13 = Conv2D(filters=512, kernel_size=(3,3), padding=\"same\", activation=\"relu\")(conv12)\n",
    "pool5  = MaxPooling2D((2, 2))(conv13)\n",
    "\n",
    "flat   = Flatten()(pool5)\n",
    "dense1 = Dense(4096, activation=\"relu\")(flat)\n",
    "dense2 = Dense(4096, activation=\"relu\")(dense1)\n",
    "output = Dense(1, activation=\"sigmoid\")(dense2)\n",
    "\n",
    "vgg16_model  = Model(inputs=_input, outputs=output)"
   ]
  },
  {
   "cell_type": "code",
   "execution_count": 3,
   "metadata": {
    "execution": {
     "iopub.execute_input": "2023-03-17T09:42:29.310373Z",
     "iopub.status.busy": "2023-03-17T09:42:29.309908Z",
     "iopub.status.idle": "2023-03-17T09:42:29.341057Z",
     "shell.execute_reply": "2023-03-17T09:42:29.340528Z",
     "shell.execute_reply.started": "2023-03-17T09:42:29.310351Z"
    }
   },
   "outputs": [
    {
     "name": "stdout",
     "output_type": "stream",
     "text": [
      "Model: \"model\"\n",
      "_________________________________________________________________\n",
      " Layer (type)                Output Shape              Param #   \n",
      "=================================================================\n",
      " input_1 (InputLayer)        [(None, 256, 256, 1)]     0         \n",
      "                                                                 \n",
      " conv2d (Conv2D)             (None, 256, 256, 64)      640       \n",
      "                                                                 \n",
      " conv2d_1 (Conv2D)           (None, 256, 256, 64)      36928     \n",
      "                                                                 \n",
      " max_pooling2d (MaxPooling2D  (None, 128, 128, 64)     0         \n",
      " )                                                               \n",
      "                                                                 \n",
      " conv2d_2 (Conv2D)           (None, 128, 128, 128)     73856     \n",
      "                                                                 \n",
      " conv2d_3 (Conv2D)           (None, 128, 128, 128)     147584    \n",
      "                                                                 \n",
      " max_pooling2d_1 (MaxPooling  (None, 64, 64, 128)      0         \n",
      " 2D)                                                             \n",
      "                                                                 \n",
      " conv2d_4 (Conv2D)           (None, 64, 64, 256)       295168    \n",
      "                                                                 \n",
      " conv2d_5 (Conv2D)           (None, 64, 64, 256)       590080    \n",
      "                                                                 \n",
      " conv2d_6 (Conv2D)           (None, 64, 64, 256)       590080    \n",
      "                                                                 \n",
      " max_pooling2d_2 (MaxPooling  (None, 32, 32, 256)      0         \n",
      " 2D)                                                             \n",
      "                                                                 \n",
      " conv2d_7 (Conv2D)           (None, 32, 32, 512)       1180160   \n",
      "                                                                 \n",
      " conv2d_8 (Conv2D)           (None, 32, 32, 512)       2359808   \n",
      "                                                                 \n",
      " conv2d_9 (Conv2D)           (None, 32, 32, 512)       2359808   \n",
      "                                                                 \n",
      " max_pooling2d_3 (MaxPooling  (None, 16, 16, 512)      0         \n",
      " 2D)                                                             \n",
      "                                                                 \n",
      " conv2d_10 (Conv2D)          (None, 16, 16, 512)       2359808   \n",
      "                                                                 \n",
      " conv2d_11 (Conv2D)          (None, 16, 16, 512)       2359808   \n",
      "                                                                 \n",
      " conv2d_12 (Conv2D)          (None, 16, 16, 512)       2359808   \n",
      "                                                                 \n",
      " max_pooling2d_4 (MaxPooling  (None, 8, 8, 512)        0         \n",
      " 2D)                                                             \n",
      "                                                                 \n",
      " flatten (Flatten)           (None, 32768)             0         \n",
      "                                                                 \n",
      " dense (Dense)               (None, 4096)              134221824 \n",
      "                                                                 \n",
      " dense_1 (Dense)             (None, 4096)              16781312  \n",
      "                                                                 \n",
      " dense_2 (Dense)             (None, 1)                 4097      \n",
      "                                                                 \n",
      "=================================================================\n",
      "Total params: 165,720,769\n",
      "Trainable params: 165,720,769\n",
      "Non-trainable params: 0\n",
      "_________________________________________________________________\n"
     ]
    }
   ],
   "source": [
    "vgg16_model.summary()"
   ]
  },
  {
   "cell_type": "code",
   "execution_count": 4,
   "metadata": {
    "colab": {
     "base_uri": "https://localhost:8080/"
    },
    "execution": {
     "iopub.execute_input": "2023-03-17T09:42:29.342663Z",
     "iopub.status.busy": "2023-03-17T09:42:29.342480Z",
     "iopub.status.idle": "2023-03-17T09:42:29.959606Z",
     "shell.execute_reply": "2023-03-17T09:42:29.958837Z",
     "shell.execute_reply.started": "2023-03-17T09:42:29.342646Z"
    },
    "executionInfo": {
     "elapsed": 4,
     "status": "ok",
     "timestamp": 1665127444776,
     "user": {
      "displayName": "Dataset Cancer",
      "userId": "11315013122659612988"
     },
     "user_tz": -330
    },
    "id": "zvN32hnLXjHQ",
    "outputId": "3e98b7c9-dcd8-4aa1-fdf9-e35f5b244a1d"
   },
   "outputs": [
    {
     "name": "stdout",
     "output_type": "stream",
     "text": [
      "Found 8116 files belonging to 2 classes.\n",
      "Using 5682 files for training.\n",
      "Found 8116 files belonging to 2 classes.\n",
      "Using 2434 files for validation.\n",
      "Found 900 files belonging to 2 classes.\n"
     ]
    }
   ],
   "source": [
    "image_shape=(256,256)\n",
    "train_dir=\"/notebooks/ultrasound/train\"\n",
    "validation_dir=train_dir\n",
    "test_dir=\"/notebooks/ultrasound/val\"\n",
    "batch_size=64\n",
    "test_train_split=0.3\n",
    "\n",
    "train_data = image_dataset_from_directory(\\\n",
    "      train_dir,color_mode=\"grayscale\",image_size=image_shape ,\\\n",
    "      subset='training',seed=5, validation_split=test_train_split,\\\n",
    "      batch_size=batch_size)\n",
    "validation_data = image_dataset_from_directory(validation_dir,\n",
    "      color_mode=\"grayscale\",image_size=image_shape, subset='validation',seed=5,\\\n",
    "      validation_split=test_train_split,batch_size=batch_size)\n",
    "test_data = image_dataset_from_directory(test_dir,\n",
    "      color_mode=\"grayscale\",image_size=image_shape, batch_size=batch_size)"
   ]
  },
  {
   "cell_type": "code",
   "execution_count": 5,
   "metadata": {
    "execution": {
     "iopub.execute_input": "2023-03-17T09:42:29.961358Z",
     "iopub.status.busy": "2023-03-17T09:42:29.960582Z",
     "iopub.status.idle": "2023-03-17T09:42:30.085735Z",
     "shell.execute_reply": "2023-03-17T09:42:30.085111Z",
     "shell.execute_reply.started": "2023-03-17T09:42:29.961325Z"
    },
    "id": "H0P8YGYy97NG"
   },
   "outputs": [],
   "source": [
    "vgg16_model.compile(loss=\"BinaryCrossentropy\", optimizer='Adam', metrics=[\"BinaryAccuracy\"])"
   ]
  },
  {
   "cell_type": "code",
   "execution_count": 6,
   "metadata": {
    "execution": {
     "iopub.execute_input": "2023-03-17T09:42:30.086832Z",
     "iopub.status.busy": "2023-03-17T09:42:30.086630Z",
     "iopub.status.idle": "2023-03-17T09:42:30.089968Z",
     "shell.execute_reply": "2023-03-17T09:42:30.089362Z",
     "shell.execute_reply.started": "2023-03-17T09:42:30.086813Z"
    }
   },
   "outputs": [],
   "source": [
    "callback = keras.callbacks.EarlyStopping(monitor='val_loss', patience=3)"
   ]
  },
  {
   "cell_type": "code",
   "execution_count": null,
   "metadata": {
    "execution": {
     "iopub.execute_input": "2023-03-17T09:42:30.091010Z",
     "iopub.status.busy": "2023-03-17T09:42:30.090793Z"
    },
    "id": "Vlc5xE5oOERe"
   },
   "outputs": [
    {
     "name": "stdout",
     "output_type": "stream",
     "text": [
      "Epoch 1/100\n",
      "89/89 [==============================] - 64s 614ms/step - loss: 58.2193 - binary_accuracy: 0.5570 - val_loss: 0.6916 - val_binary_accuracy: 0.5707\n",
      "Epoch 2/100\n",
      "89/89 [==============================] - 50s 563ms/step - loss: 0.6942 - binary_accuracy: 0.5215 - val_loss: 0.6614 - val_binary_accuracy: 0.6007\n",
      "Epoch 3/100\n",
      "89/89 [==============================] - 50s 566ms/step - loss: 0.6929 - binary_accuracy: 0.5275 - val_loss: 0.7050 - val_binary_accuracy: 0.4971\n",
      "Epoch 4/100\n",
      "24/89 [=======>......................] - ETA: 31s - loss: 0.6941 - binary_accuracy: 0.5104"
     ]
    }
   ],
   "source": [
    "history = vgg16_model.fit(train_data,\n",
    "            epochs=100,\n",
    "            validation_data=validation_data,callbacks=[callback])"
   ]
  },
  {
   "cell_type": "code",
   "execution_count": null,
   "metadata": {},
   "outputs": [],
   "source": [
    "epochs_run=len(history.epoch)"
   ]
  },
  {
   "cell_type": "code",
   "execution_count": null,
   "metadata": {
    "colab": {
     "base_uri": "https://localhost:8080/",
     "height": 235
    },
    "executionInfo": {
     "elapsed": 708,
     "status": "error",
     "timestamp": 1664449339850,
     "user": {
      "displayName": "Dataset Cancer",
      "userId": "11315013122659612988"
     },
     "user_tz": -330
    },
    "id": "pR2MAPZ2nbKP",
    "outputId": "5d63c286-891b-43f9-8fac-353553a952c3"
   },
   "outputs": [],
   "source": [
    "acc = history.history['binary_accuracy']\n",
    "val_acc = history.history['val_binary_accuracy']\n",
    "\n",
    "loss = history.history['loss']\n",
    "val_loss = history.history['val_loss']\n",
    "\n",
    "epochs_range = range(epochs_run)\n",
    "plt.style.use('ggplot')\n",
    "plt.figure(figsize=(18, 5))\n",
    "plt.plot(epochs_range, acc, label='Training Accuracy')\n",
    "plt.plot(epochs_range, val_acc, label='Validation Accuracy')\n",
    "plt.legend(loc='lower right')\n",
    "plt.title('Training and Validation Accuracy')\n",
    "\n",
    "plt.figure(figsize=(18, 5))\n",
    "plt.subplot(1,2,1)\n",
    "plt.plot(epochs_range, np.log(loss), label='Training Loss')\n",
    "plt.plot(epochs_range, np.log(val_loss), label='Validation Loss')\n",
    "plt.legend(loc='upper right')\n",
    "plt.title('Logarithm of Training and Validation Loss')\n",
    "\n",
    "plt.subplot(1,2,2)\n",
    "plt.plot(epochs_range, loss, label='Training Loss')\n",
    "plt.plot(epochs_range, val_loss, label='Validation Loss')\n",
    "plt.legend(loc='upper right')\n",
    "plt.title('Training and Validation Loss')\n",
    "plt.show()\n",
    "\n",
    "plt.show()\n"
   ]
  },
  {
   "cell_type": "code",
   "execution_count": null,
   "metadata": {},
   "outputs": [],
   "source": [
    "results = vgg16_model.evaluate(test_data)\n",
    "print(\"test loss, test acc:\", results)"
   ]
  },
  {
   "cell_type": "code",
   "execution_count": null,
   "metadata": {},
   "outputs": [],
   "source": [
    "# vgg16_model.save(\"../models/vgg16_0_ultrasound\")"
   ]
  }
 ],
 "metadata": {
  "accelerator": "GPU",
  "colab": {
   "authorship_tag": "ABX9TyO/1uWXHv+afWz155UkJuKi",
   "collapsed_sections": [],
   "mount_file_id": "1qMHRWpo4Y1Tqc-P9HtrksfFTplYgzF8S",
   "provenance": []
  },
  "kernelspec": {
   "display_name": "Python 3 (ipykernel)",
   "language": "python",
   "name": "python3"
  },
  "language_info": {
   "codemirror_mode": {
    "name": "ipython",
    "version": 3
   },
   "file_extension": ".py",
   "mimetype": "text/x-python",
   "name": "python",
   "nbconvert_exporter": "python",
   "pygments_lexer": "ipython3",
   "version": "3.9.16"
  }
 },
 "nbformat": 4,
 "nbformat_minor": 4
}
