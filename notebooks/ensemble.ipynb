{
 "cells": [
  {
   "cell_type": "code",
   "execution_count": 32,
   "id": "3eb8d43a-3159-468f-b4c5-c170caf6f53f",
   "metadata": {
    "execution": {
     "iopub.execute_input": "2023-03-18T19:37:24.189316Z",
     "iopub.status.busy": "2023-03-18T19:37:24.188946Z",
     "iopub.status.idle": "2023-03-18T19:37:24.194157Z",
     "shell.execute_reply": "2023-03-18T19:37:24.193199Z",
     "shell.execute_reply.started": "2023-03-18T19:37:24.189289Z"
    }
   },
   "outputs": [],
   "source": [
    "from keras.models import load_model\n",
    "import numpy as np\n",
    "from keras.layers import concatenate, Input\n",
    "import tensorflow as tf\n",
    "from keras.models import Model\n",
    "from tensorflow.keras.preprocessing import image_dataset_from_directory"
   ]
  },
  {
   "cell_type": "code",
   "execution_count": 2,
   "id": "82e007c1-6712-4b01-a409-793948040ebf",
   "metadata": {
    "execution": {
     "iopub.execute_input": "2023-03-18T19:26:10.839855Z",
     "iopub.status.busy": "2023-03-18T19:26:10.838744Z",
     "iopub.status.idle": "2023-03-18T19:26:15.068884Z",
     "shell.execute_reply": "2023-03-18T19:26:15.068134Z",
     "shell.execute_reply.started": "2023-03-18T19:26:10.839822Z"
    }
   },
   "outputs": [],
   "source": [
    "# Load the saved models\n",
    "alexnet = load_model('../models/alexnet_0_ultrasound')\n",
    "fcn = load_model('../models/fcn_0_ultrasound')\n",
    "lenet=load_model('/notebooks/ensemble_nns_major/models/lenet5_0_ultrasound')"
   ]
  },
  {
   "cell_type": "code",
   "execution_count": 3,
   "id": "515ecee5-0703-4965-b5f7-a28008c72ad3",
   "metadata": {
    "execution": {
     "iopub.execute_input": "2023-03-18T19:26:15.070428Z",
     "iopub.status.busy": "2023-03-18T19:26:15.069713Z",
     "iopub.status.idle": "2023-03-18T19:26:15.132806Z",
     "shell.execute_reply": "2023-03-18T19:26:15.132201Z",
     "shell.execute_reply.started": "2023-03-18T19:26:15.070402Z"
    }
   },
   "outputs": [
    {
     "name": "stdout",
     "output_type": "stream",
     "text": [
      "Found 900 files belonging to 2 classes.\n"
     ]
    }
   ],
   "source": [
    "image_shape=(227,227)\n",
    "train_dir=\"/notebooks/ultrasound/train\"\n",
    "validation_dir=train_dir\n",
    "test_dir=\"/notebooks/ultrasound/val\"\n",
    "batch_size=64\n",
    "test_train_split=0.3\n",
    "\n",
    "test_data = image_dataset_from_directory(test_dir,\n",
    "      color_mode=\"grayscale\",image_size=image_shape, batch_size=batch_size)\n"
   ]
  },
  {
   "cell_type": "code",
   "execution_count": 23,
   "id": "dc9b3739-b12c-4be1-a892-a7f2f573b81a",
   "metadata": {
    "execution": {
     "iopub.execute_input": "2023-03-18T19:30:10.267699Z",
     "iopub.status.busy": "2023-03-18T19:30:10.266866Z",
     "iopub.status.idle": "2023-03-18T19:30:11.588777Z",
     "shell.execute_reply": "2023-03-18T19:30:11.587770Z",
     "shell.execute_reply.started": "2023-03-18T19:30:10.267669Z"
    }
   },
   "outputs": [],
   "source": [
    "fcn_predict=fcn.predict(test_data,verbose=0).reshape((900,))\n",
    "alexnet_predict=alexnet.predict(test_data,verbose=0).reshape((900,))\n",
    "lenet_predict=lenet.predict(test_data,verbose=0).reshape((900,))"
   ]
  },
  {
   "cell_type": "code",
   "execution_count": 5,
   "id": "69a6f056-5dd2-4875-97e6-e96ba6508792",
   "metadata": {
    "execution": {
     "iopub.execute_input": "2023-03-18T19:26:19.356644Z",
     "iopub.status.busy": "2023-03-18T19:26:19.355847Z",
     "iopub.status.idle": "2023-03-18T19:26:19.636750Z",
     "shell.execute_reply": "2023-03-18T19:26:19.636034Z",
     "shell.execute_reply.started": "2023-03-18T19:26:19.356617Z"
    }
   },
   "outputs": [],
   "source": [
    "op=np.array([])\n",
    "for i,j in test_data:\n",
    "    op=np.append(op,j.numpy())"
   ]
  },
  {
   "cell_type": "code",
   "execution_count": 6,
   "id": "aed79cd4-ad62-45e0-a07e-d7005f012c2a",
   "metadata": {
    "execution": {
     "iopub.execute_input": "2023-03-18T19:26:19.637811Z",
     "iopub.status.busy": "2023-03-18T19:26:19.637577Z",
     "iopub.status.idle": "2023-03-18T19:26:19.646046Z",
     "shell.execute_reply": "2023-03-18T19:26:19.645209Z",
     "shell.execute_reply.started": "2023-03-18T19:26:19.637789Z"
    }
   },
   "outputs": [
    {
     "data": {
      "text/plain": [
       "(900,)"
      ]
     },
     "execution_count": 6,
     "metadata": {},
     "output_type": "execute_result"
    }
   ],
   "source": [
    "op.shape"
   ]
  },
  {
   "cell_type": "code",
   "execution_count": 7,
   "id": "30684a81-01fa-4bff-a4af-6a164fb4fc32",
   "metadata": {
    "execution": {
     "iopub.execute_input": "2023-03-18T19:26:19.647751Z",
     "iopub.status.busy": "2023-03-18T19:26:19.647109Z",
     "iopub.status.idle": "2023-03-18T19:26:19.652827Z",
     "shell.execute_reply": "2023-03-18T19:26:19.652057Z",
     "shell.execute_reply.started": "2023-03-18T19:26:19.647727Z"
    }
   },
   "outputs": [
    {
     "data": {
      "text/plain": [
       "(900,)"
      ]
     },
     "execution_count": 7,
     "metadata": {},
     "output_type": "execute_result"
    }
   ],
   "source": [
    "fcn_predict.shape"
   ]
  },
  {
   "cell_type": "code",
   "execution_count": 16,
   "id": "38e797e4-8300-456f-a90b-a3e4a8a2c735",
   "metadata": {
    "execution": {
     "iopub.execute_input": "2023-03-18T19:29:11.221079Z",
     "iopub.status.busy": "2023-03-18T19:29:11.219914Z",
     "iopub.status.idle": "2023-03-18T19:29:11.868099Z",
     "shell.execute_reply": "2023-03-18T19:29:11.867240Z",
     "shell.execute_reply.started": "2023-03-18T19:29:11.221030Z"
    }
   },
   "outputs": [
    {
     "name": "stdout",
     "output_type": "stream",
     "text": [
      "15/15 [==============================] - 0s 23ms/step - loss: 0.5021 - binary_accuracy: 0.7400\n",
      "test loss, test acc: [0.502132773399353, 0.7400000095367432]\n"
     ]
    }
   ],
   "source": [
    "results = fcn.evaluate(test_data)\n",
    "print(\"test loss, test acc:\", results)"
   ]
  },
  {
   "cell_type": "code",
   "execution_count": 24,
   "id": "da1036cf-4a96-4cbc-94bc-60e98cdc3197",
   "metadata": {
    "execution": {
     "iopub.execute_input": "2023-03-18T19:30:19.021303Z",
     "iopub.status.busy": "2023-03-18T19:30:19.020332Z",
     "iopub.status.idle": "2023-03-18T19:30:19.026115Z",
     "shell.execute_reply": "2023-03-18T19:30:19.025161Z",
     "shell.execute_reply.started": "2023-03-18T19:30:19.021269Z"
    }
   },
   "outputs": [],
   "source": [
    "ensemble_predictions = np.round((fcn_predict + alexnet_predict+lenet_predict) / 3)\n",
    "\n",
    "# Evaluate accuracy of ensemble predictions\n",
    "y_test = op# load your test labels here\n",
    "# ensemble_accuracy = model1.evaluate(X_test, y_test, verbose=0)[1]\n",
    "# print(\"Ensemble accuracy: {:.2f}%\".format(ensemble_accuracy * 100))"
   ]
  },
  {
   "cell_type": "code",
   "execution_count": 18,
   "id": "d4ee4fa8-a9b5-4def-beff-97bb82dac115",
   "metadata": {
    "execution": {
     "iopub.execute_input": "2023-03-18T19:29:22.441995Z",
     "iopub.status.busy": "2023-03-18T19:29:22.441352Z",
     "iopub.status.idle": "2023-03-18T19:29:22.446951Z",
     "shell.execute_reply": "2023-03-18T19:29:22.446375Z",
     "shell.execute_reply.started": "2023-03-18T19:29:22.441967Z"
    }
   },
   "outputs": [],
   "source": [
    "def calculate_metrics(y_true, y_pred):\n",
    "    \"\"\"\n",
    "    Calculate accuracy, sensitivity, and specificity.\n",
    "    \"\"\"\n",
    "    # Define TP, FP, TN, and FN\n",
    "    TP = np.sum((y_true == 1) & (y_pred == 1))\n",
    "    FP = np.sum((y_true == 0) & (y_pred == 1))\n",
    "    TN = np.sum((y_true == 0) & (y_pred == 0))\n",
    "    FN = np.sum((y_true == 1) & (y_pred == 0))\n",
    "    \n",
    "    # Calculate metrics\n",
    "    accuracy = (TP + TN) / (TP + FP + TN + FN)\n",
    "    sensitivity = TP / (TP + FN)\n",
    "    specificity = TN / (TN + FP)\n",
    "    \n",
    "    return accuracy, sensitivity, specificity"
   ]
  },
  {
   "cell_type": "code",
   "execution_count": 25,
   "id": "0946f166-db37-4d49-8a89-64e9e97784c9",
   "metadata": {
    "execution": {
     "iopub.execute_input": "2023-03-18T19:30:23.251322Z",
     "iopub.status.busy": "2023-03-18T19:30:23.250524Z",
     "iopub.status.idle": "2023-03-18T19:30:23.256570Z",
     "shell.execute_reply": "2023-03-18T19:30:23.255622Z",
     "shell.execute_reply.started": "2023-03-18T19:30:23.251288Z"
    }
   },
   "outputs": [
    {
     "name": "stdout",
     "output_type": "stream",
     "text": [
      "Accuracy: 0.48\n",
      "Sensitivity: 0.48\n",
      "Specificity: 0.48\n"
     ]
    }
   ],
   "source": [
    "accuracy, sensitivity, specificity = calculate_metrics(y_test, alexnet_predict)\n",
    "\n",
    "print(\"Accuracy:\", accuracy)\n",
    "print(\"Sensitivity:\", sensitivity)\n",
    "print(\"Specificity:\", specificity)"
   ]
  },
  {
   "cell_type": "code",
   "execution_count": 26,
   "id": "9c44ef47-16ed-4d8b-9d54-d8ec64750133",
   "metadata": {
    "execution": {
     "iopub.execute_input": "2023-03-18T19:30:28.507782Z",
     "iopub.status.busy": "2023-03-18T19:30:28.506984Z",
     "iopub.status.idle": "2023-03-18T19:30:28.512213Z",
     "shell.execute_reply": "2023-03-18T19:30:28.511560Z",
     "shell.execute_reply.started": "2023-03-18T19:30:28.507752Z"
    }
   },
   "outputs": [
    {
     "name": "stdout",
     "output_type": "stream",
     "text": [
      "Accuracy: 0.2727272727272727\n",
      "Sensitivity: 1.0\n",
      "Specificity: 0.0\n"
     ]
    }
   ],
   "source": [
    "accuracy, sensitivity, specificity = calculate_metrics(y_test, lenet_predict)\n",
    "\n",
    "print(\"Accuracy:\", accuracy)\n",
    "print(\"Sensitivity:\", sensitivity)\n",
    "print(\"Specificity:\", specificity)"
   ]
  },
  {
   "cell_type": "code",
   "execution_count": 27,
   "id": "486fc70a-f218-4fe7-9eba-a1f47d5964c9",
   "metadata": {
    "execution": {
     "iopub.execute_input": "2023-03-18T19:30:37.978221Z",
     "iopub.status.busy": "2023-03-18T19:30:37.977392Z",
     "iopub.status.idle": "2023-03-18T19:30:37.983489Z",
     "shell.execute_reply": "2023-03-18T19:30:37.982574Z",
     "shell.execute_reply.started": "2023-03-18T19:30:37.978191Z"
    }
   },
   "outputs": [
    {
     "name": "stdout",
     "output_type": "stream",
     "text": [
      "Accuracy: nan\n",
      "Sensitivity: nan\n",
      "Specificity: nan\n"
     ]
    },
    {
     "name": "stderr",
     "output_type": "stream",
     "text": [
      "/tmp/ipykernel_32/2553318004.py:12: RuntimeWarning: invalid value encountered in long_scalars\n",
      "  accuracy = (TP + TN) / (TP + FP + TN + FN)\n",
      "/tmp/ipykernel_32/2553318004.py:13: RuntimeWarning: invalid value encountered in long_scalars\n",
      "  sensitivity = TP / (TP + FN)\n",
      "/tmp/ipykernel_32/2553318004.py:14: RuntimeWarning: invalid value encountered in long_scalars\n",
      "  specificity = TN / (TN + FP)\n"
     ]
    }
   ],
   "source": [
    "accuracy, sensitivity, specificity = calculate_metrics(y_test, fcn_predict)\n",
    "\n",
    "print(\"Accuracy:\", accuracy)\n",
    "print(\"Sensitivity:\", sensitivity)\n",
    "print(\"Specificity:\", specificity)"
   ]
  },
  {
   "cell_type": "code",
   "execution_count": 28,
   "id": "f478373e-3207-42f2-8c32-7e953a863959",
   "metadata": {
    "execution": {
     "iopub.execute_input": "2023-03-18T19:30:43.078265Z",
     "iopub.status.busy": "2023-03-18T19:30:43.077618Z",
     "iopub.status.idle": "2023-03-18T19:30:43.082669Z",
     "shell.execute_reply": "2023-03-18T19:30:43.081995Z",
     "shell.execute_reply.started": "2023-03-18T19:30:43.078236Z"
    }
   },
   "outputs": [
    {
     "name": "stdout",
     "output_type": "stream",
     "text": [
      "Accuracy: 0.5033333333333333\n",
      "Sensitivity: 0.345\n",
      "Specificity: 0.63\n"
     ]
    }
   ],
   "source": [
    "accuracy, sensitivity, specificity = calculate_metrics(y_test, ensemble_predictions)\n",
    "\n",
    "print(\"Accuracy:\", accuracy)\n",
    "print(\"Sensitivity:\", sensitivity)\n",
    "print(\"Specificity:\", specificity)"
   ]
  }
 ],
 "metadata": {
  "kernelspec": {
   "display_name": "Python 3 (ipykernel)",
   "language": "python",
   "name": "python3"
  },
  "language_info": {
   "codemirror_mode": {
    "name": "ipython",
    "version": 3
   },
   "file_extension": ".py",
   "mimetype": "text/x-python",
   "name": "python",
   "nbconvert_exporter": "python",
   "pygments_lexer": "ipython3",
   "version": "3.9.16"
  }
 },
 "nbformat": 4,
 "nbformat_minor": 5
}
