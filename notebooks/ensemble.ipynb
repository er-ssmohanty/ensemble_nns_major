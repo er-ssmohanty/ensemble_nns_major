{
 "cells": [
  {
   "cell_type": "code",
   "execution_count": 1,
   "id": "3eb8d43a-3159-468f-b4c5-c170caf6f53f",
   "metadata": {
    "execution": {
     "iopub.execute_input": "2023-03-17T06:08:42.275090Z",
     "iopub.status.busy": "2023-03-17T06:08:42.274764Z",
     "iopub.status.idle": "2023-03-17T06:08:45.173392Z",
     "shell.execute_reply": "2023-03-17T06:08:45.172482Z",
     "shell.execute_reply.started": "2023-03-17T06:08:42.275063Z"
    }
   },
   "outputs": [],
   "source": [
    "from keras.models import load_model\n",
    "import numpy as np"
   ]
  },
  {
   "cell_type": "code",
   "execution_count": 2,
   "id": "82e007c1-6712-4b01-a409-793948040ebf",
   "metadata": {
    "execution": {
     "iopub.execute_input": "2023-03-17T06:09:43.272068Z",
     "iopub.status.busy": "2023-03-17T06:09:43.271591Z",
     "iopub.status.idle": "2023-03-17T06:09:51.333175Z",
     "shell.execute_reply": "2023-03-17T06:09:51.332261Z",
     "shell.execute_reply.started": "2023-03-17T06:09:43.271980Z"
    }
   },
   "outputs": [],
   "source": [
    "# Load the saved models\n",
    "model1 = load_model('../models/alexnet_0_ultrasound')\n",
    "model2 = load_model('../models/fcn_0_ultrasound')"
   ]
  },
  {
   "cell_type": "code",
   "execution_count": 4,
   "id": "6230d514-d4bc-45e8-8ff4-49ff41626ac0",
   "metadata": {
    "execution": {
     "iopub.execute_input": "2023-03-17T06:10:19.073107Z",
     "iopub.status.busy": "2023-03-17T06:10:19.072717Z",
     "iopub.status.idle": "2023-03-17T06:10:19.125932Z",
     "shell.execute_reply": "2023-03-17T06:10:19.124787Z",
     "shell.execute_reply.started": "2023-03-17T06:10:19.073079Z"
    }
   },
   "outputs": [
    {
     "name": "stdout",
     "output_type": "stream",
     "text": [
      "Model: \"sequential\"\n",
      "_________________________________________________________________\n",
      " Layer (type)                Output Shape              Param #   \n",
      "=================================================================\n",
      " conv2d (Conv2D)             (None, 225, 225, 32)      320       \n",
      "                                                                 \n",
      " batch_normalization (BatchN  (None, 225, 225, 32)     128       \n",
      " ormalization)                                                   \n",
      "                                                                 \n",
      " activation (Activation)     (None, 225, 225, 32)      0         \n",
      "                                                                 \n",
      " max_pooling2d (MaxPooling2D  (None, 113, 113, 32)     0         \n",
      " )                                                               \n",
      "                                                                 \n",
      " conv2d_1 (Conv2D)           (None, 111, 111, 64)      18496     \n",
      "                                                                 \n",
      " activation_1 (Activation)   (None, 111, 111, 64)      0         \n",
      "                                                                 \n",
      " max_pooling2d_1 (MaxPooling  (None, 56, 56, 64)       0         \n",
      " 2D)                                                             \n",
      "                                                                 \n",
      " conv2d_2 (Conv2D)           (None, 27, 27, 128)       73856     \n",
      "                                                                 \n",
      " activation_2 (Activation)   (None, 27, 27, 128)       0         \n",
      "                                                                 \n",
      " max_pooling2d_2 (MaxPooling  (None, 14, 14, 128)      0         \n",
      " 2D)                                                             \n",
      "                                                                 \n",
      " conv2d_3 (Conv2D)           (None, 6, 6, 256)         295168    \n",
      "                                                                 \n",
      " activation_3 (Activation)   (None, 6, 6, 256)         0         \n",
      "                                                                 \n",
      " conv2d_4 (Conv2D)           (None, 2, 2, 128)         295040    \n",
      "                                                                 \n",
      " dropout (Dropout)           (None, 2, 2, 128)         0         \n",
      "                                                                 \n",
      " activation_4 (Activation)   (None, 2, 2, 128)         0         \n",
      "                                                                 \n",
      " conv2d_5 (Conv2D)           (None, 2, 2, 1)           129       \n",
      "                                                                 \n",
      " dropout_1 (Dropout)         (None, 2, 2, 1)           0         \n",
      "                                                                 \n",
      " batch_normalization_1 (Batc  (None, 2, 2, 1)          4         \n",
      " hNormalization)                                                 \n",
      "                                                                 \n",
      " global_max_pooling2d (Globa  (None, 1)                0         \n",
      " lMaxPooling2D)                                                  \n",
      "                                                                 \n",
      " activation_5 (Activation)   (None, 1)                 0         \n",
      "                                                                 \n",
      "=================================================================\n",
      "Total params: 683,141\n",
      "Trainable params: 683,075\n",
      "Non-trainable params: 66\n",
      "_________________________________________________________________\n"
     ]
    }
   ],
   "source": [
    "model2.summary()"
   ]
  },
  {
   "cell_type": "code",
   "execution_count": null,
   "id": "515ecee5-0703-4965-b5f7-a28008c72ad3",
   "metadata": {},
   "outputs": [],
   "source": [
    "# Make predictions on test data using both models\n",
    "X_test = # load your test data here\n",
    "predictions1 = model1.predict(X_test)\n",
    "predictions2 = model2.predict(X_test)\n",
    "\n",
    "# Combine predictions using voting\n",
    "ensemble_predictions = np.round((predictions1 + predictions2) / 2)\n",
    "\n",
    "# Evaluate accuracy of ensemble predictions\n",
    "y_test = # load your test labels here\n",
    "ensemble_accuracy = model1.evaluate(X_test, y_test, verbose=0)[1]\n",
    "print(\"Ensemble accuracy: {:.2f}%\".format(ensemble_accuracy * 100))\n"
   ]
  }
 ],
 "metadata": {
  "kernelspec": {
   "display_name": "Python 3 (ipykernel)",
   "language": "python",
   "name": "python3"
  },
  "language_info": {
   "codemirror_mode": {
    "name": "ipython",
    "version": 3
   },
   "file_extension": ".py",
   "mimetype": "text/x-python",
   "name": "python",
   "nbconvert_exporter": "python",
   "pygments_lexer": "ipython3",
   "version": "3.9.16"
  }
 },
 "nbformat": 4,
 "nbformat_minor": 5
}
