{
 "cells": [
  {
   "cell_type": "code",
   "execution_count": 1,
   "id": "3eb8d43a-3159-468f-b4c5-c170caf6f53f",
   "metadata": {
    "execution": {
     "iopub.execute_input": "2023-03-17T21:16:37.783837Z",
     "iopub.status.busy": "2023-03-17T21:16:37.783591Z",
     "iopub.status.idle": "2023-03-17T21:16:40.036610Z",
     "shell.execute_reply": "2023-03-17T21:16:40.035859Z",
     "shell.execute_reply.started": "2023-03-17T21:16:37.783816Z"
    }
   },
   "outputs": [],
   "source": [
    "from keras.models import load_model\n",
    "import numpy as np\n",
    "import tensorflow as tf\n",
    "from tensorflow.keras.preprocessing import image_dataset_from_directory"
   ]
  },
  {
   "cell_type": "code",
   "execution_count": 2,
   "id": "82e007c1-6712-4b01-a409-793948040ebf",
   "metadata": {
    "execution": {
     "iopub.execute_input": "2023-03-17T21:16:40.038610Z",
     "iopub.status.busy": "2023-03-17T21:16:40.037818Z",
     "iopub.status.idle": "2023-03-17T21:16:43.034473Z",
     "shell.execute_reply": "2023-03-17T21:16:43.033823Z",
     "shell.execute_reply.started": "2023-03-17T21:16:40.038581Z"
    }
   },
   "outputs": [],
   "source": [
    "# Load the saved models\n",
    "alexnet = load_model('../models/alexnet_0_ultrasound')\n",
    "fcn = load_model('../models/fcn_0_ultrasound')\n",
    "lenet=load_model('/notebooks/ensemble_nns_major/models/lenet5_0_ultrasound')"
   ]
  },
  {
   "cell_type": "code",
   "execution_count": 3,
   "id": "515ecee5-0703-4965-b5f7-a28008c72ad3",
   "metadata": {
    "execution": {
     "iopub.execute_input": "2023-03-17T21:16:43.036011Z",
     "iopub.status.busy": "2023-03-17T21:16:43.035273Z",
     "iopub.status.idle": "2023-03-17T21:16:43.092054Z",
     "shell.execute_reply": "2023-03-17T21:16:43.091409Z",
     "shell.execute_reply.started": "2023-03-17T21:16:43.035987Z"
    }
   },
   "outputs": [
    {
     "name": "stdout",
     "output_type": "stream",
     "text": [
      "Found 900 files belonging to 2 classes.\n"
     ]
    }
   ],
   "source": [
    "image_shape=(227,227)\n",
    "train_dir=\"/notebooks/ultrasound/train\"\n",
    "validation_dir=train_dir\n",
    "test_dir=\"/notebooks/ultrasound/val\"\n",
    "batch_size=64\n",
    "test_train_split=0.3\n",
    "\n",
    "test_data = image_dataset_from_directory(test_dir,\n",
    "      color_mode=\"grayscale\",image_size=image_shape, batch_size=batch_size)\n"
   ]
  },
  {
   "cell_type": "code",
   "execution_count": 4,
   "id": "dc9b3739-b12c-4be1-a892-a7f2f573b81a",
   "metadata": {
    "execution": {
     "iopub.execute_input": "2023-03-17T21:16:43.093744Z",
     "iopub.status.busy": "2023-03-17T21:16:43.093499Z",
     "iopub.status.idle": "2023-03-17T21:16:47.573211Z",
     "shell.execute_reply": "2023-03-17T21:16:47.572572Z",
     "shell.execute_reply.started": "2023-03-17T21:16:43.093723Z"
    }
   },
   "outputs": [],
   "source": [
    "fcn_predict=fcn.predict(test_data,verbose=0).reshape((900,))\n",
    "alexnet_predict=alexnet.predict(test_data,verbose=0).reshape((900,))\n",
    "lenet_predict=lenet.predict(test_data,verbose=0).reshape((900,))"
   ]
  },
  {
   "cell_type": "code",
   "execution_count": 5,
   "id": "69a6f056-5dd2-4875-97e6-e96ba6508792",
   "metadata": {
    "execution": {
     "iopub.execute_input": "2023-03-17T21:16:47.574416Z",
     "iopub.status.busy": "2023-03-17T21:16:47.574207Z",
     "iopub.status.idle": "2023-03-17T21:16:47.783243Z",
     "shell.execute_reply": "2023-03-17T21:16:47.782656Z",
     "shell.execute_reply.started": "2023-03-17T21:16:47.574396Z"
    }
   },
   "outputs": [],
   "source": [
    "op=np.array([])\n",
    "for i,j in test_data:\n",
    "    op=np.append(op,j.numpy())"
   ]
  },
  {
   "cell_type": "code",
   "execution_count": 6,
   "id": "aed79cd4-ad62-45e0-a07e-d7005f012c2a",
   "metadata": {
    "execution": {
     "iopub.execute_input": "2023-03-17T21:16:47.784272Z",
     "iopub.status.busy": "2023-03-17T21:16:47.784052Z",
     "iopub.status.idle": "2023-03-17T21:16:47.790160Z",
     "shell.execute_reply": "2023-03-17T21:16:47.789608Z",
     "shell.execute_reply.started": "2023-03-17T21:16:47.784253Z"
    }
   },
   "outputs": [
    {
     "data": {
      "text/plain": [
       "(900,)"
      ]
     },
     "execution_count": 6,
     "metadata": {},
     "output_type": "execute_result"
    }
   ],
   "source": [
    "op.shape"
   ]
  },
  {
   "cell_type": "code",
   "execution_count": 7,
   "id": "30684a81-01fa-4bff-a4af-6a164fb4fc32",
   "metadata": {
    "execution": {
     "iopub.execute_input": "2023-03-17T21:16:47.791180Z",
     "iopub.status.busy": "2023-03-17T21:16:47.790977Z",
     "iopub.status.idle": "2023-03-17T21:16:47.795348Z",
     "shell.execute_reply": "2023-03-17T21:16:47.794802Z",
     "shell.execute_reply.started": "2023-03-17T21:16:47.791158Z"
    }
   },
   "outputs": [
    {
     "data": {
      "text/plain": [
       "(900,)"
      ]
     },
     "execution_count": 7,
     "metadata": {},
     "output_type": "execute_result"
    }
   ],
   "source": [
    "fcn_predict.shape"
   ]
  }
 ],
 "metadata": {
  "kernelspec": {
   "display_name": "Python 3 (ipykernel)",
   "language": "python",
   "name": "python3"
  },
  "language_info": {
   "codemirror_mode": {
    "name": "ipython",
    "version": 3
   },
   "file_extension": ".py",
   "mimetype": "text/x-python",
   "name": "python",
   "nbconvert_exporter": "python",
   "pygments_lexer": "ipython3",
   "version": "3.9.16"
  }
 },
 "nbformat": 4,
 "nbformat_minor": 5
}
