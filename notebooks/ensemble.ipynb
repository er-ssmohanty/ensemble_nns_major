{
 "cells": [
  {
   "cell_type": "code",
   "execution_count": 3,
   "id": "3eb8d43a-3159-468f-b4c5-c170caf6f53f",
   "metadata": {
    "execution": {
     "iopub.execute_input": "2023-03-20T06:05:01.950059Z",
     "iopub.status.busy": "2023-03-20T06:05:01.949449Z",
     "iopub.status.idle": "2023-03-20T06:05:01.953430Z",
     "shell.execute_reply": "2023-03-20T06:05:01.952742Z",
     "shell.execute_reply.started": "2023-03-20T06:05:01.950038Z"
    }
   },
   "outputs": [],
   "source": [
    "from keras.models import load_model\n",
    "import numpy as np\n",
    "from keras.layers import concatenate, Input\n",
    "import tensorflow as tf\n",
    "from keras.models import Model\n",
    "from tensorflow.keras.preprocessing import image_dataset_from_directory"
   ]
  },
  {
   "cell_type": "code",
   "execution_count": 4,
   "id": "82e007c1-6712-4b01-a409-793948040ebf",
   "metadata": {
    "execution": {
     "iopub.execute_input": "2023-03-20T06:05:01.960029Z",
     "iopub.status.busy": "2023-03-20T06:05:01.959857Z",
     "iopub.status.idle": "2023-03-20T06:05:04.774762Z",
     "shell.execute_reply": "2023-03-20T06:05:04.774200Z",
     "shell.execute_reply.started": "2023-03-20T06:05:01.960014Z"
    }
   },
   "outputs": [],
   "source": [
    "# Load the saved models\n",
    "alexnet = load_model('../models/alexnet_0_ultrasound')\n",
    "fcn = load_model('../models/fcn_0_ultrasound')\n",
    "lenet=load_model('/notebooks/ensemble_nns_major/models/lenet5_0_ultrasound')"
   ]
  },
  {
   "cell_type": "code",
   "execution_count": 5,
   "id": "02e0d481-ab8a-46c1-846e-380a6cd96d18",
   "metadata": {
    "execution": {
     "iopub.execute_input": "2023-03-20T06:05:04.776983Z",
     "iopub.status.busy": "2023-03-20T06:05:04.776800Z",
     "iopub.status.idle": "2023-03-20T06:05:04.851037Z",
     "shell.execute_reply": "2023-03-20T06:05:04.850529Z",
     "shell.execute_reply.started": "2023-03-20T06:05:04.776983Z"
    }
   },
   "outputs": [],
   "source": [
    "# Define an input shape\n",
    "input_shape = (227,227, 1)\n",
    "\n",
    "# Create an ensemble model\n",
    "input_layer = Input(shape=input_shape)\n",
    "output1 = alexnet(input_layer)\n",
    "output2 = fcn(input_layer)\n",
    "output3 = lenet(input_layer)\n",
    "ensemble_output = concatenate([output1, output2, output3])\n",
    "ensemble_model = Model(inputs=input_layer, outputs=ensemble_output)\n"
   ]
  },
  {
   "cell_type": "code",
   "execution_count": 6,
   "id": "6570561b-f41c-4f35-9c7d-9a1d0e0f0c84",
   "metadata": {
    "execution": {
     "iopub.execute_input": "2023-03-20T06:05:04.851904Z",
     "iopub.status.busy": "2023-03-20T06:05:04.851725Z",
     "iopub.status.idle": "2023-03-20T06:05:04.858774Z",
     "shell.execute_reply": "2023-03-20T06:05:04.858305Z",
     "shell.execute_reply.started": "2023-03-20T06:05:04.851904Z"
    }
   },
   "outputs": [],
   "source": [
    "ensemble_model.compile(loss=\"BinaryCrossentropy\", optimizer='Adam', metrics=[\"BinaryAccuracy\"])"
   ]
  },
  {
   "cell_type": "code",
   "execution_count": 7,
   "id": "515ecee5-0703-4965-b5f7-a28008c72ad3",
   "metadata": {
    "execution": {
     "iopub.execute_input": "2023-03-20T06:05:04.860031Z",
     "iopub.status.busy": "2023-03-20T06:05:04.859866Z",
     "iopub.status.idle": "2023-03-20T06:05:05.376656Z",
     "shell.execute_reply": "2023-03-20T06:05:05.374617Z",
     "shell.execute_reply.started": "2023-03-20T06:05:04.860016Z"
    }
   },
   "outputs": [
    {
     "name": "stdout",
     "output_type": "stream",
     "text": [
      "Found 8116 files belonging to 2 classes.\n",
      "Using 5682 files for training.\n",
      "Found 8116 files belonging to 2 classes.\n",
      "Using 2434 files for validation.\n",
      "Found 900 files belonging to 2 classes.\n"
     ]
    }
   ],
   "source": [
    "image_shape=(227,227)\n",
    "train_dir=\"/notebooks/ultrasound/train\"\n",
    "validation_dir=train_dir\n",
    "test_dir=\"/notebooks/ultrasound/val\"\n",
    "batch_size=64\n",
    "test_train_split=0.3\n",
    "\n",
    "train_data = image_dataset_from_directory(\\\n",
    "      train_dir,color_mode=\"grayscale\",image_size=image_shape ,\\\n",
    "      subset='training',seed=50, validation_split=test_train_split,\\\n",
    "      batch_size=batch_size)\n",
    "validation_data = image_dataset_from_directory(validation_dir,\n",
    "      color_mode=\"grayscale\",image_size=image_shape, subset='validation',seed=50,\\\n",
    "      validation_split=test_train_split,batch_size=batch_size)\n",
    "test_data = image_dataset_from_directory(test_dir,\n",
    "      color_mode=\"grayscale\",image_size=image_shape, batch_size=batch_size)"
   ]
  },
  {
   "cell_type": "code",
   "execution_count": 8,
   "id": "dc9b3739-b12c-4be1-a892-a7f2f573b81a",
   "metadata": {
    "execution": {
     "iopub.execute_input": "2023-03-20T06:05:05.377780Z",
     "iopub.status.busy": "2023-03-20T06:05:05.377406Z",
     "iopub.status.idle": "2023-03-20T06:05:09.656346Z",
     "shell.execute_reply": "2023-03-20T06:05:09.655541Z",
     "shell.execute_reply.started": "2023-03-20T06:05:05.377764Z"
    }
   },
   "outputs": [],
   "source": [
    "fcn_predict=fcn.predict(test_data,verbose=0).reshape((900,))\n",
    "alexnet_predict=alexnet.predict(test_data,verbose=0).reshape((900,))\n",
    "lenet_predict=lenet.predict(test_data,verbose=0).reshape((900,))"
   ]
  },
  {
   "cell_type": "code",
   "execution_count": 9,
   "id": "69a6f056-5dd2-4875-97e6-e96ba6508792",
   "metadata": {
    "execution": {
     "iopub.execute_input": "2023-03-20T06:05:09.657805Z",
     "iopub.status.busy": "2023-03-20T06:05:09.657305Z",
     "iopub.status.idle": "2023-03-20T06:05:09.868937Z",
     "shell.execute_reply": "2023-03-20T06:05:09.868282Z",
     "shell.execute_reply.started": "2023-03-20T06:05:09.657784Z"
    }
   },
   "outputs": [],
   "source": [
    "op=np.array([])\n",
    "for i,j in test_data:\n",
    "    op=np.append(op,j.numpy())"
   ]
  },
  {
   "cell_type": "code",
   "execution_count": 10,
   "id": "aed79cd4-ad62-45e0-a07e-d7005f012c2a",
   "metadata": {
    "execution": {
     "iopub.execute_input": "2023-03-20T06:05:09.870349Z",
     "iopub.status.busy": "2023-03-20T06:05:09.869846Z",
     "iopub.status.idle": "2023-03-20T06:05:09.875649Z",
     "shell.execute_reply": "2023-03-20T06:05:09.875028Z",
     "shell.execute_reply.started": "2023-03-20T06:05:09.870330Z"
    }
   },
   "outputs": [
    {
     "data": {
      "text/plain": [
       "(900,)"
      ]
     },
     "execution_count": 10,
     "metadata": {},
     "output_type": "execute_result"
    }
   ],
   "source": [
    "op.shape"
   ]
  },
  {
   "cell_type": "code",
   "execution_count": 11,
   "id": "30684a81-01fa-4bff-a4af-6a164fb4fc32",
   "metadata": {
    "execution": {
     "iopub.execute_input": "2023-03-20T06:05:09.876552Z",
     "iopub.status.busy": "2023-03-20T06:05:09.876389Z",
     "iopub.status.idle": "2023-03-20T06:05:09.880536Z",
     "shell.execute_reply": "2023-03-20T06:05:09.879869Z",
     "shell.execute_reply.started": "2023-03-20T06:05:09.876539Z"
    }
   },
   "outputs": [
    {
     "data": {
      "text/plain": [
       "(900,)"
      ]
     },
     "execution_count": 11,
     "metadata": {},
     "output_type": "execute_result"
    }
   ],
   "source": [
    "fcn_predict.shape"
   ]
  },
  {
   "cell_type": "code",
   "execution_count": 12,
   "id": "f49873e9-866e-4b56-9068-7126a7690ea2",
   "metadata": {
    "execution": {
     "iopub.execute_input": "2023-03-20T06:05:09.881295Z",
     "iopub.status.busy": "2023-03-20T06:05:09.881139Z",
     "iopub.status.idle": "2023-03-20T06:05:09.893918Z",
     "shell.execute_reply": "2023-03-20T06:05:09.893392Z",
     "shell.execute_reply.started": "2023-03-20T06:05:09.881281Z"
    }
   },
   "outputs": [
    {
     "name": "stdout",
     "output_type": "stream",
     "text": [
      "Model: \"model\"\n",
      "__________________________________________________________________________________________________\n",
      " Layer (type)                   Output Shape         Param #     Connected to                     \n",
      "==================================================================================================\n",
      " input_1 (InputLayer)           [(None, 227, 227, 1  0           []                               \n",
      "                                )]                                                                \n",
      "                                                                                                  \n",
      " Alexnet (Sequential)           (None, 1)            91716245    ['input_1[0][0]']                \n",
      "                                                                                                  \n",
      " fcn (Sequential)               (None, 1)            683145      ['input_1[0][0]']                \n",
      "                                                                                                  \n",
      " lenet (Sequential)             (None, 1)            5406221     ['input_1[0][0]']                \n",
      "                                                                                                  \n",
      " concatenate (Concatenate)      (None, 3)            0           ['Alexnet[0][0]',                \n",
      "                                                                  'fcn[0][0]',                    \n",
      "                                                                  'lenet[0][0]']                  \n",
      "                                                                                                  \n",
      "==================================================================================================\n",
      "Total params: 97,805,611\n",
      "Trainable params: 97,805,541\n",
      "Non-trainable params: 70\n",
      "__________________________________________________________________________________________________\n"
     ]
    }
   ],
   "source": [
    "ensemble_model.summary()"
   ]
  },
  {
   "cell_type": "code",
   "execution_count": 13,
   "id": "06ab9a9f-fda7-4754-95f5-1ee773e4b5cf",
   "metadata": {
    "execution": {
     "iopub.execute_input": "2023-03-20T06:05:09.897243Z",
     "iopub.status.busy": "2023-03-20T06:05:09.896784Z",
     "iopub.status.idle": "2023-03-20T06:05:10.984523Z",
     "shell.execute_reply": "2023-03-20T06:05:10.983950Z",
     "shell.execute_reply.started": "2023-03-20T06:05:09.897225Z"
    }
   },
   "outputs": [],
   "source": [
    "ensemble_predict = np.max(np.around(ensemble_model.predict(test_data, verbose=0)), axis=1).reshape((900,))"
   ]
  },
  {
   "cell_type": "code",
   "execution_count": 14,
   "id": "acafa0ae-c302-4558-ab0b-dccf4e679032",
   "metadata": {
    "execution": {
     "iopub.execute_input": "2023-03-20T06:05:10.985437Z",
     "iopub.status.busy": "2023-03-20T06:05:10.985261Z",
     "iopub.status.idle": "2023-03-20T06:05:10.989572Z",
     "shell.execute_reply": "2023-03-20T06:05:10.989045Z",
     "shell.execute_reply.started": "2023-03-20T06:05:10.985421Z"
    }
   },
   "outputs": [
    {
     "name": "stdout",
     "output_type": "stream",
     "text": [
      "[1. 1. 1. 1. 1. 1. 1. 1. 1. 0.]\n",
      "[0. 0. 0. 0. 0. 1. 0. 0. 1. 1.]\n",
      "[1. 0. 1. 0. 0. 0. 0. 0. 0. 0.]\n",
      "[1. 1. 0. 0. 1. 1. 1. 1. 0. 0.]\n",
      "[0. 1. 0. 1. 1. 1. 0. 1. 0. 0.]\n"
     ]
    }
   ],
   "source": [
    "print(ensemble_predict[:10].round())\n",
    "print(fcn_predict[:10].round())\n",
    "print(alexnet_predict[:10].round())\n",
    "print(lenet_predict[:10].round())\n",
    "print(op[:10])"
   ]
  },
  {
   "cell_type": "code",
   "execution_count": 15,
   "id": "b9a06e22-0ed4-4d77-964c-03bd22cf82ec",
   "metadata": {
    "execution": {
     "iopub.execute_input": "2023-03-20T06:05:10.990280Z",
     "iopub.status.busy": "2023-03-20T06:05:10.990131Z",
     "iopub.status.idle": "2023-03-20T06:05:12.407838Z",
     "shell.execute_reply": "2023-03-20T06:05:12.407235Z",
     "shell.execute_reply.started": "2023-03-20T06:05:10.990266Z"
    }
   },
   "outputs": [
    {
     "name": "stdout",
     "output_type": "stream",
     "text": [
      "15/15 [==============================] - 0s 16ms/step - loss: 1.0917 - binary_accuracy: 0.7911\n",
      "test loss, test acc: [1.0917024612426758, 0.7911111116409302]\n",
      "15/15 [==============================] - 0s 12ms/step - loss: 2.3377 - binary_accuracy: 0.8011\n",
      "test loss, test acc: [2.337690591812134, 0.801111102104187]\n",
      "15/15 [==============================] - 1s 17ms/step - loss: 0.3499 - binary_accuracy: 0.8833\n",
      "FCN test loss, test acc: [0.34987306594848633, 0.8833333253860474]\n"
     ]
    }
   ],
   "source": [
    "results = alexnet.evaluate(test_data)\n",
    "print(\"test loss, test acc:\", results)\n",
    "results = lenet.evaluate(test_data)\n",
    "print(\"test loss, test acc:\", results)\n",
    "results = fcn.evaluate(test_data)\n",
    "print(\"FCN test loss, test acc:\", results)"
   ]
  },
  {
   "cell_type": "code",
   "execution_count": 16,
   "id": "38e797e4-8300-456f-a90b-a3e4a8a2c735",
   "metadata": {
    "execution": {
     "iopub.execute_input": "2023-03-20T06:05:12.408963Z",
     "iopub.status.busy": "2023-03-20T06:05:12.408726Z",
     "iopub.status.idle": "2023-03-20T06:05:13.421512Z",
     "shell.execute_reply": "2023-03-20T06:05:13.420987Z",
     "shell.execute_reply.started": "2023-03-20T06:05:12.408943Z"
    }
   },
   "outputs": [
    {
     "name": "stdout",
     "output_type": "stream",
     "text": [
      "15/15 [==============================] - 1s 31ms/step - loss: 0.9488 - binary_accuracy: 0.8252\n",
      "test loss, test acc: [0.9488376975059509, 0.8251851797103882]\n"
     ]
    }
   ],
   "source": [
    "results = ensemble_model.evaluate(test_data)\n",
    "print(\"test loss, test acc:\", results)"
   ]
  },
  {
   "cell_type": "code",
   "execution_count": 17,
   "id": "da1036cf-4a96-4cbc-94bc-60e98cdc3197",
   "metadata": {
    "execution": {
     "iopub.execute_input": "2023-03-20T06:05:13.422501Z",
     "iopub.status.busy": "2023-03-20T06:05:13.422311Z",
     "iopub.status.idle": "2023-03-20T06:05:13.425987Z",
     "shell.execute_reply": "2023-03-20T06:05:13.425335Z",
     "shell.execute_reply.started": "2023-03-20T06:05:13.422482Z"
    }
   },
   "outputs": [],
   "source": [
    "ensemble_predictions = np.round((fcn_predict + alexnet_predict+lenet_predict) / 3)\n",
    "\n",
    "# Evaluate accuracy of ensemble predictions\n",
    "y_test = op# load your test labels here\n",
    "# ensemble_accuracy = model1.evaluate(X_test, y_test, verbose=0)[1]\n",
    "# print(\"Ensemble accuracy: {:.2f}%\".format(ensemble_accuracy * 100))"
   ]
  },
  {
   "cell_type": "code",
   "execution_count": 18,
   "id": "d4ee4fa8-a9b5-4def-beff-97bb82dac115",
   "metadata": {
    "execution": {
     "iopub.execute_input": "2023-03-20T06:05:13.426958Z",
     "iopub.status.busy": "2023-03-20T06:05:13.426790Z",
     "iopub.status.idle": "2023-03-20T06:05:13.431093Z",
     "shell.execute_reply": "2023-03-20T06:05:13.430413Z",
     "shell.execute_reply.started": "2023-03-20T06:05:13.426944Z"
    }
   },
   "outputs": [],
   "source": [
    "def calculate_metrics(y_true, y_pred):\n",
    "    \"\"\"\n",
    "    Calculate accuracy, sensitivity, and specificity.\n",
    "    \"\"\"\n",
    "    # Define TP, FP, TN, and FN\n",
    "    TP = np.sum((y_true == 1) & (y_pred == 1))\n",
    "    FP = np.sum((y_true == 0) & (y_pred == 1))\n",
    "    TN = np.sum((y_true == 0) & (y_pred == 0))\n",
    "    FN = np.sum((y_true == 1) & (y_pred == 0))\n",
    "    \n",
    "    # Calculate metrics\n",
    "    accuracy = (TP + TN) / (TP + FP + TN + FN)\n",
    "    sensitivity = TP / (TP + FN)\n",
    "    specificity = TN / (TN + FP)\n",
    "    \n",
    "    return accuracy, sensitivity, specificity"
   ]
  },
  {
   "cell_type": "code",
   "execution_count": 19,
   "id": "0946f166-db37-4d49-8a89-64e9e97784c9",
   "metadata": {
    "execution": {
     "iopub.execute_input": "2023-03-20T06:05:13.432156Z",
     "iopub.status.busy": "2023-03-20T06:05:13.431991Z",
     "iopub.status.idle": "2023-03-20T06:05:13.435404Z",
     "shell.execute_reply": "2023-03-20T06:05:13.434939Z",
     "shell.execute_reply.started": "2023-03-20T06:05:13.432141Z"
    }
   },
   "outputs": [
    {
     "name": "stdout",
     "output_type": "stream",
     "text": [
      "Accuracy: 0.36666666666666664\n",
      "Sensitivity: 1.0\n",
      "Specificity: 0.0\n"
     ]
    }
   ],
   "source": [
    "accuracy, sensitivity, specificity = calculate_metrics(y_test, alexnet_predict)\n",
    "\n",
    "print(\"Accuracy:\", accuracy)\n",
    "print(\"Sensitivity:\", sensitivity)\n",
    "print(\"Specificity:\", specificity)"
   ]
  },
  {
   "cell_type": "code",
   "execution_count": 20,
   "id": "9c44ef47-16ed-4d8b-9d54-d8ec64750133",
   "metadata": {
    "execution": {
     "iopub.execute_input": "2023-03-20T06:05:13.436143Z",
     "iopub.status.busy": "2023-03-20T06:05:13.435987Z",
     "iopub.status.idle": "2023-03-20T06:05:13.439408Z",
     "shell.execute_reply": "2023-03-20T06:05:13.439009Z",
     "shell.execute_reply.started": "2023-03-20T06:05:13.436128Z"
    }
   },
   "outputs": [
    {
     "name": "stdout",
     "output_type": "stream",
     "text": [
      "Accuracy: 0.3333333333333333\n",
      "Sensitivity: 1.0\n",
      "Specificity: 0.0\n"
     ]
    }
   ],
   "source": [
    "accuracy, sensitivity, specificity = calculate_metrics(y_test, lenet_predict)\n",
    "\n",
    "print(\"Accuracy:\", accuracy)\n",
    "print(\"Sensitivity:\", sensitivity)\n",
    "print(\"Specificity:\", specificity)"
   ]
  },
  {
   "cell_type": "code",
   "execution_count": 21,
   "id": "486fc70a-f218-4fe7-9eba-a1f47d5964c9",
   "metadata": {
    "execution": {
     "iopub.execute_input": "2023-03-20T06:05:13.440060Z",
     "iopub.status.busy": "2023-03-20T06:05:13.439913Z",
     "iopub.status.idle": "2023-03-20T06:05:13.443521Z",
     "shell.execute_reply": "2023-03-20T06:05:13.443075Z",
     "shell.execute_reply.started": "2023-03-20T06:05:13.440047Z"
    }
   },
   "outputs": [
    {
     "name": "stdout",
     "output_type": "stream",
     "text": [
      "Accuracy: nan\n",
      "Sensitivity: nan\n",
      "Specificity: nan\n"
     ]
    },
    {
     "name": "stderr",
     "output_type": "stream",
     "text": [
      "/tmp/ipykernel_2699/2553318004.py:12: RuntimeWarning: invalid value encountered in long_scalars\n",
      "  accuracy = (TP + TN) / (TP + FP + TN + FN)\n",
      "/tmp/ipykernel_2699/2553318004.py:13: RuntimeWarning: invalid value encountered in long_scalars\n",
      "  sensitivity = TP / (TP + FN)\n",
      "/tmp/ipykernel_2699/2553318004.py:14: RuntimeWarning: invalid value encountered in long_scalars\n",
      "  specificity = TN / (TN + FP)\n"
     ]
    }
   ],
   "source": [
    "accuracy, sensitivity, specificity = calculate_metrics(y_test, fcn_predict)\n",
    "\n",
    "print(\"Accuracy:\", accuracy)\n",
    "print(\"Sensitivity:\", sensitivity)\n",
    "print(\"Specificity:\", specificity)"
   ]
  },
  {
   "cell_type": "code",
   "execution_count": 22,
   "id": "f478373e-3207-42f2-8c32-7e953a863959",
   "metadata": {
    "execution": {
     "iopub.execute_input": "2023-03-20T06:05:13.444183Z",
     "iopub.status.busy": "2023-03-20T06:05:13.444040Z",
     "iopub.status.idle": "2023-03-20T06:05:13.447351Z",
     "shell.execute_reply": "2023-03-20T06:05:13.446802Z",
     "shell.execute_reply.started": "2023-03-20T06:05:13.444171Z"
    }
   },
   "outputs": [
    {
     "name": "stdout",
     "output_type": "stream",
     "text": [
      "Accuracy: 0.45222222222222225\n",
      "Sensitivity: 0.39\n",
      "Specificity: 0.502\n"
     ]
    }
   ],
   "source": [
    "accuracy, sensitivity, specificity = calculate_metrics(y_test, ensemble_predictions)\n",
    "\n",
    "print(\"Accuracy:\", accuracy)\n",
    "print(\"Sensitivity:\", sensitivity)\n",
    "print(\"Specificity:\", specificity)"
   ]
  },
  {
   "cell_type": "code",
   "execution_count": 24,
   "id": "df17152d-6666-496f-9aad-1ce25f5dbbcd",
   "metadata": {
    "execution": {
     "iopub.execute_input": "2023-03-20T06:09:03.671619Z",
     "iopub.status.busy": "2023-03-20T06:09:03.670827Z",
     "iopub.status.idle": "2023-03-20T06:09:03.675584Z",
     "shell.execute_reply": "2023-03-20T06:09:03.675067Z",
     "shell.execute_reply.started": "2023-03-20T06:09:03.671604Z"
    }
   },
   "outputs": [
    {
     "name": "stdout",
     "output_type": "stream",
     "text": [
      "Accuracy: 0.45222222222222225\n",
      "Sensitivity: 0.39\n",
      "Specificity: 0.502\n"
     ]
    }
   ],
   "source": [
    "accuracy, sensitivity, specificity = calculate_metrics(y_test, ensemble_predictions)\n",
    "\n",
    "print(\"Accuracy:\", accuracy)\n",
    "print(\"Sensitivity:\", sensitivity)\n",
    "print(\"Specificity:\", specificity)"
   ]
  }
 ],
 "metadata": {
  "kernelspec": {
   "display_name": "Python 3 (ipykernel)",
   "language": "python",
   "name": "python3"
  },
  "language_info": {
   "codemirror_mode": {
    "name": "ipython",
    "version": 3
   },
   "file_extension": ".py",
   "mimetype": "text/x-python",
   "name": "python",
   "nbconvert_exporter": "python",
   "pygments_lexer": "ipython3",
   "version": "3.9.16"
  }
 },
 "nbformat": 4,
 "nbformat_minor": 5
}
