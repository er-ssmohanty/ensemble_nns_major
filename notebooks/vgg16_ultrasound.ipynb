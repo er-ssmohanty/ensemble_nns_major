{
 "cells": [
  {
   "cell_type": "code",
   "execution_count": 1,
   "metadata": {
    "execution": {
     "iopub.execute_input": "2023-03-19T15:58:27.419820Z",
     "iopub.status.busy": "2023-03-19T15:58:27.418794Z",
     "iopub.status.idle": "2023-03-19T15:58:30.499628Z",
     "shell.execute_reply": "2023-03-19T15:58:30.498531Z",
     "shell.execute_reply.started": "2023-03-19T15:58:27.419791Z"
    },
    "executionInfo": {
     "elapsed": 4793,
     "status": "ok",
     "timestamp": 1665591516447,
     "user": {
      "displayName": "Dataset Cancer",
      "userId": "11315013122659612988"
     },
     "user_tz": -330
    },
    "id": "X51w7IrtwhEA"
   },
   "outputs": [],
   "source": [
    "from tensorflow import keras\n",
    "import numpy as np\n",
    "from keras.utils import np_utils\n",
    "from keras.layers import Input, Conv2D, MaxPooling2D\n",
    "from keras.layers import Dense, Flatten\n",
    "from keras.models import Model\n",
    "from keras.optimizers import Adam\n",
    "import matplotlib.pyplot as plt\n",
    "import os\n",
    "from tensorflow.keras.preprocessing import image_dataset_from_directory"
   ]
  },
  {
   "cell_type": "code",
   "execution_count": null,
   "metadata": {
    "colab": {
     "base_uri": "https://localhost:8080/"
    },
    "execution": {
     "iopub.execute_input": "2023-03-19T15:58:30.502089Z",
     "iopub.status.busy": "2023-03-19T15:58:30.501390Z"
    },
    "executionInfo": {
     "elapsed": 1058,
     "status": "ok",
     "timestamp": 1665127434961,
     "user": {
      "displayName": "Dataset Cancer",
      "userId": "11315013122659612988"
     },
     "user_tz": -330
    },
    "id": "9Z-kER6XS06k",
    "outputId": "bc1f5d42-486a-4f3f-9c94-c4ad4e95dfc2"
   },
   "outputs": [],
   "source": [
    "_input = Input((227,227,1), name=\"VGG16\") \n",
    "conv1  = Conv2D(filters=64, kernel_size=(3,3), padding=\"same\", activation=\"relu\")(_input)\n",
    "conv2  = Conv2D(filters=64, kernel_size=(3,3), padding=\"same\", activation=\"relu\")(conv1)\n",
    "pool1  = MaxPooling2D((2, 2))(conv2)\n",
    "\n",
    "conv3  = Conv2D(filters=128, kernel_size=(3,3), padding=\"same\", activation=\"relu\")(pool1)\n",
    "conv4  = Conv2D(filters=128, kernel_size=(3,3), padding=\"same\", activation=\"relu\")(conv3)\n",
    "pool2  = MaxPooling2D((2, 2))(conv4)\n",
    "\n",
    "conv5  = Conv2D(filters=256, kernel_size=(3,3), padding=\"same\", activation=\"relu\")(pool2)\n",
    "conv6  = Conv2D(filters=256, kernel_size=(3,3), padding=\"same\", activation=\"relu\")(conv5)\n",
    "conv7  = Conv2D(filters=256, kernel_size=(3,3), padding=\"same\", activation=\"relu\")(conv6)\n",
    "pool3  = MaxPooling2D((2, 2))(conv7)\n",
    "\n",
    "conv8  = Conv2D(filters=512, kernel_size=(3,3), padding=\"same\", activation=\"relu\")(pool3)\n",
    "conv9  = Conv2D(filters=512, kernel_size=(3,3), padding=\"same\", activation=\"relu\")(conv8)\n",
    "conv10 = Conv2D(filters=512, kernel_size=(3,3), padding=\"same\", activation=\"relu\")(conv9)\n",
    "pool4  = MaxPooling2D((2, 2))(conv10)\n",
    "\n",
    "conv11 = Conv2D(filters=512, kernel_size=(3,3), padding=\"same\", activation=\"relu\")(pool4)\n",
    "conv12 = Conv2D(filters=512, kernel_size=(3,3), padding=\"same\", activation=\"relu\")(conv11)\n",
    "conv13 = Conv2D(filters=512, kernel_size=(3,3), padding=\"same\", activation=\"relu\")(conv12)\n",
    "pool5  = MaxPooling2D((2, 2))(conv13)\n",
    "\n",
    "flat   = Flatten()(pool5)\n",
    "dense1 = Dense(4096, activation=\"relu\")(flat)\n",
    "dense2 = Dense(4096, activation=\"relu\")(dense1)\n",
    "output = Dense(1, activation=\"sigmoid\")(dense2)\n",
    "\n",
    "vgg16_model  = Model(inputs=_input, outputs=output)"
   ]
  },
  {
   "cell_type": "code",
   "execution_count": null,
   "metadata": {},
   "outputs": [],
   "source": [
    "vgg16_model.summary()"
   ]
  },
  {
   "cell_type": "code",
   "execution_count": null,
   "metadata": {
    "colab": {
     "base_uri": "https://localhost:8080/"
    },
    "executionInfo": {
     "elapsed": 4,
     "status": "ok",
     "timestamp": 1665127444776,
     "user": {
      "displayName": "Dataset Cancer",
      "userId": "11315013122659612988"
     },
     "user_tz": -330
    },
    "id": "zvN32hnLXjHQ",
    "outputId": "3e98b7c9-dcd8-4aa1-fdf9-e35f5b244a1d"
   },
   "outputs": [],
   "source": [
    "image_shape=(227,227)\n",
    "train_dir=\"/notebooks/ultrasound/train\"\n",
    "validation_dir=train_dir\n",
    "test_dir=\"/notebooks/ultrasound/val\"\n",
    "batch_size=64\n",
    "test_train_split=0.3\n",
    "\n",
    "train_data = image_dataset_from_directory(\\\n",
    "      train_dir,color_mode=\"grayscale\",image_size=image_shape ,\\\n",
    "      subset='training',seed=5, validation_split=test_train_split,\\\n",
    "      batch_size=batch_size)\n",
    "validation_data = image_dataset_from_directory(validation_dir,\n",
    "      color_mode=\"grayscale\",image_size=image_shape, subset='validation',seed=5,\\\n",
    "      validation_split=test_train_split,batch_size=batch_size)\n",
    "test_data = image_dataset_from_directory(test_dir,\n",
    "      color_mode=\"grayscale\",image_size=image_shape, batch_size=batch_size)"
   ]
  },
  {
   "cell_type": "code",
   "execution_count": null,
   "metadata": {
    "id": "H0P8YGYy97NG"
   },
   "outputs": [],
   "source": [
    "vgg16_model.compile(loss=\"BinaryCrossentropy\", optimizer='Adam', metrics=[\"BinaryAccuracy\"])"
   ]
  },
  {
   "cell_type": "code",
   "execution_count": null,
   "metadata": {},
   "outputs": [],
   "source": [
    "callback = keras.callbacks.EarlyStopping(monitor='val_loss', patience=3)"
   ]
  },
  {
   "cell_type": "code",
   "execution_count": null,
   "metadata": {
    "id": "Vlc5xE5oOERe"
   },
   "outputs": [],
   "source": [
    "history = vgg16_model.fit(train_data,\n",
    "            epochs=100,\n",
    "            validation_data=validation_data,callbacks=[callback])"
   ]
  },
  {
   "cell_type": "code",
   "execution_count": null,
   "metadata": {},
   "outputs": [],
   "source": [
    "epochs_run=len(history.epoch)"
   ]
  },
  {
   "cell_type": "code",
   "execution_count": null,
   "metadata": {
    "colab": {
     "base_uri": "https://localhost:8080/",
     "height": 235
    },
    "executionInfo": {
     "elapsed": 708,
     "status": "error",
     "timestamp": 1664449339850,
     "user": {
      "displayName": "Dataset Cancer",
      "userId": "11315013122659612988"
     },
     "user_tz": -330
    },
    "id": "pR2MAPZ2nbKP",
    "outputId": "5d63c286-891b-43f9-8fac-353553a952c3"
   },
   "outputs": [],
   "source": [
    "acc = history.history['binary_accuracy']\n",
    "val_acc = history.history['val_binary_accuracy']\n",
    "\n",
    "loss = history.history['loss']\n",
    "val_loss = history.history['val_loss']\n",
    "\n",
    "epochs_range = range(epochs_run)\n",
    "plt.style.use('ggplot')\n",
    "plt.figure(figsize=(18, 5))\n",
    "plt.plot(epochs_range, acc, label='Training Accuracy')\n",
    "plt.plot(epochs_range, val_acc, label='Validation Accuracy')\n",
    "plt.legend(loc='lower right')\n",
    "plt.title('Training and Validation Accuracy')\n",
    "\n",
    "plt.figure(figsize=(18, 5))\n",
    "plt.subplot(1,2,1)\n",
    "plt.plot(epochs_range, np.log(loss), label='Training Loss')\n",
    "plt.plot(epochs_range, np.log(val_loss), label='Validation Loss')\n",
    "plt.legend(loc='upper right')\n",
    "plt.title('Logarithm of Training and Validation Loss')\n",
    "\n",
    "plt.subplot(1,2,2)\n",
    "plt.plot(epochs_range, loss, label='Training Loss')\n",
    "plt.plot(epochs_range, val_loss, label='Validation Loss')\n",
    "plt.legend(loc='upper right')\n",
    "plt.title('Training and Validation Loss')\n",
    "plt.show()\n",
    "\n",
    "plt.show()\n"
   ]
  },
  {
   "cell_type": "code",
   "execution_count": null,
   "metadata": {},
   "outputs": [],
   "source": [
    "results = vgg16_model.evaluate(test_data)\n",
    "print(\"test loss, test acc:\", results)"
   ]
  },
  {
   "cell_type": "code",
   "execution_count": null,
   "metadata": {},
   "outputs": [],
   "source": [
    "# vgg16_model.save(\"../models/vgg16_0_ultrasound\")"
   ]
  }
 ],
 "metadata": {
  "accelerator": "GPU",
  "colab": {
   "authorship_tag": "ABX9TyO/1uWXHv+afWz155UkJuKi",
   "collapsed_sections": [],
   "mount_file_id": "1qMHRWpo4Y1Tqc-P9HtrksfFTplYgzF8S",
   "provenance": []
  },
  "kernelspec": {
   "display_name": "Python 3 (ipykernel)",
   "language": "python",
   "name": "python3"
  },
  "language_info": {
   "codemirror_mode": {
    "name": "ipython",
    "version": 3
   },
   "file_extension": ".py",
   "mimetype": "text/x-python",
   "name": "python",
   "nbconvert_exporter": "python",
   "pygments_lexer": "ipython3",
   "version": "3.9.16"
  }
 },
 "nbformat": 4,
 "nbformat_minor": 4
}
